{
 "cells": [
  {
   "cell_type": "markdown",
   "id": "a20b7c41",
   "metadata": {},
   "source": [
    "Notes based on the course \"Intermediate Python\" by DataCamp.\n",
    "\n"
   ]
  },
  {
   "cell_type": "markdown",
   "id": "5f8c795c",
   "metadata": {},
   "source": [
    "# Notes"
   ]
  },
  {
   "cell_type": "markdown",
   "id": "6ff092e1",
   "metadata": {},
   "source": [
    "## Matplotlib\n",
    "\n",
    "Data visualization\n",
    "* you'll need the subplot package pyplot (plt)`import matplotlib.pyplot`\n",
    "* `plt.plot(year, pop)`; `plt.show()`, line plot\n",
    "* `plt.scatter(year,pop)`, scatterplot\n",
    "    * argument `s` adds points proportional to some size\n",
    "    * argument `c` adds color coded points\n",
    "    * argument `alpha` changes opacity\n",
    "* `plt.xscale('log')` scale x variable using logarithm\n",
    "* `plt.hist(x, bins =3)`\n",
    "* `plt.clf()` cleans the plot\n",
    "* `plt.xlabel('')`\n",
    "* `plt.ylabel('')`\n",
    "* `plt.title('')`\n",
    "* `plt.yticks([0,2,4], ['zero', 'two', 'four'])` change y thicks and add customized labels\n",
    "* `plt.text`\n",
    "* `plt.grid(True)`\n"
   ]
  },
  {
   "cell_type": "markdown",
   "id": "1d4c9472",
   "metadata": {},
   "source": [
    "## Dictionaries"
   ]
  },
  {
   "cell_type": "code",
   "execution_count": 2,
   "id": "71cfc094",
   "metadata": {},
   "outputs": [],
   "source": [
    "my_dict = {\n",
    "    \"key1\":\"value1\",\n",
    "    \"key2\":\"value2\",\n",
    "}"
   ]
  },
  {
   "cell_type": "markdown",
   "id": "e5434b40",
   "metadata": {},
   "source": [
    "* curly brackets,Key-value pairs, Column separates the key and the value\n",
    "* then you can use `my_dict[\"key1\"]` to subset\n",
    "* `my_dict.keys()` to check which keys are in a dictionary\n",
    "* `my_dict['key'] = new_value`\n",
    "* `del(my_dict['key'])`\n",
    "* differences with lists: \n",
    "    + dictionaries are indexed by unique keys instead lists are indexed by numbers \n",
    "* dictionaries wihtin dictionaries:`europe['spain']['population']`\n"
   ]
  },
  {
   "cell_type": "markdown",
   "id": "3baa2c68",
   "metadata": {},
   "source": [
    "## Pandas DataFrame\n",
    "* Numpy arrays do not allow to handle different data types \n",
    "* In Pandas we store tabular data in DataFrame\n",
    "* Rows and columns have labels \n",
    "* From dictionaries: key is column label and value is a list of values\n",
    "* From csv: `pd.read_csv('path', index_col = 0)` \n",
    "* Index and select data:\n",
    "    + column access []: \n",
    "        + `df['column']` gives a series\n",
    "        + `df[['column']]` gives a dataframe\n",
    "    + row access []: \n",
    "        + `df[1:4]`\n",
    "    + for 2d NumPy arrays: \n",
    "        + `my_array[rows, columns]`\n",
    "    + in Pandas: loc and iloc\n",
    "        + loc (label-based): `df.loc['row',['col1', 'col2']]` gives series, `df.loc[['row']]`\n",
    "        + iloc (integer position based): `df.iloc[1]`, `df.iloc[[1,2,3]]`"
   ]
  },
  {
   "cell_type": "markdown",
   "id": "9a611f13",
   "metadata": {},
   "source": [
    "## Logic, control flow and filtering\n",
    "* Comparison operators \n",
    "    * < , > , == , <= , >= , !=\n",
    "    * strings: alphabetical order is checked \n",
    "* Boolean operators\n",
    "    * and, or, not\n",
    "    * NumPy: logical_and(), logical_or(), logical_not()\n",
    "    * Pandas: later\n",
    "* if, elif, else\n"
   ]
  },
  {
   "cell_type": "code",
   "execution_count": null,
   "id": "dcbf01c7",
   "metadata": {},
   "outputs": [],
   "source": [
    "# IF\n",
    "if condition:\n",
    "    expression\n",
    "\n",
    "# ELSE\n",
    "if condition:\n",
    "    expression1\n",
    "else: \n",
    "    expression2\n",
    "    \n",
    "# ELIF\n",
    "if condition1:\n",
    "    expression1\n",
    "elif condition2:\n",
    "    experssion2\n",
    "else: \n",
    "    expression3\n"
   ]
  },
  {
   "cell_type": "markdown",
   "id": "949c4fca",
   "metadata": {},
   "source": [
    "* Filtering Pandas DataFrames\n",
    "    * select the column of interest \n",
    "    * perform comparison on that column and store it as a variable\n",
    "        * use boolean operators import numpy and use logical_and(), logical_or(), logical_not()\n",
    "    * use the variable to index the dataframe "
   ]
  },
  {
   "cell_type": "markdown",
   "id": "8da8730b",
   "metadata": {},
   "source": [
    "## While loop\n",
    "* it runs the code inside the loop as long as the condition is true "
   ]
  },
  {
   "cell_type": "code",
   "execution_count": null,
   "id": "20d74f25",
   "metadata": {},
   "outputs": [],
   "source": [
    "while condition:\n",
    "    expression"
   ]
  },
  {
   "cell_type": "markdown",
   "id": "f8ef90dd",
   "metadata": {},
   "source": [
    "## For loop\n",
    "* You can use `enumerate` to print the index: at each iteration it produces the index of the value and the value itself\n",
    "* Loop over string: it can loop every letter in the string"
   ]
  },
  {
   "cell_type": "code",
   "execution_count": null,
   "id": "81d74d8d",
   "metadata": {},
   "outputs": [],
   "source": [
    "for var in seq: \n",
    "    expression\n",
    "    \n",
    "for index, var in enumerate(seq):\n",
    "    print(\"index\"+str(index) +\": \"+str(var))"
   ]
  },
  {
   "cell_type": "markdown",
   "id": "21fb25d9",
   "metadata": {},
   "source": [
    "### Loop data structures\n",
    "* we have seen looping over strings and lists\n",
    "* how to loop over dictionaries or NumPy arrays?"
   ]
  },
  {
   "cell_type": "code",
   "execution_count": null,
   "id": "1ac4822e",
   "metadata": {},
   "outputs": [],
   "source": [
    "# Dictionary: .items()\n",
    "for key, value in my_dict.items():\n",
    "    expression\n",
    "\n",
    "# NumPy arrays: np.nditer()\n",
    "for val in np.nditer():\n",
    "    expression"
   ]
  },
  {
   "cell_type": "markdown",
   "id": "da57ba9e",
   "metadata": {},
   "source": [
    "* how to loop over Pandas dataframe?\n",
    "    * you have to explictly say that you want to iterate over the rows"
   ]
  },
  {
   "cell_type": "code",
   "execution_count": null,
   "id": "344bd14f",
   "metadata": {},
   "outputs": [],
   "source": [
    "# Use .iterrows()\n",
    "for lab, row in df.iterrows():\n",
    "    action"
   ]
  },
  {
   "cell_type": "markdown",
   "id": "c7742503",
   "metadata": {},
   "source": [
    "#### Apply\n",
    "Vectorized operation\n",
    "* `.apply(len)` # length\n",
    "* `.apply(str.upper)` # uppercase"
   ]
  },
  {
   "cell_type": "code",
   "execution_count": null,
   "id": "80c76649",
   "metadata": {},
   "outputs": [],
   "source": [
    "# calculates length of the country variable and creates a new column with that value \n",
    "df['new_col'] = df['country'].apply(len) "
   ]
  },
  {
   "cell_type": "markdown",
   "id": "34fc37d3",
   "metadata": {},
   "source": []
  }
 ],
 "metadata": {
  "kernelspec": {
   "display_name": "Python 3 (ipykernel)",
   "language": "python",
   "name": "python3"
  },
  "language_info": {
   "codemirror_mode": {
    "name": "ipython",
    "version": 3
   },
   "file_extension": ".py",
   "mimetype": "text/x-python",
   "name": "python",
   "nbconvert_exporter": "python",
   "pygments_lexer": "ipython3",
   "version": "3.10.0"
  },
  "toc": {
   "base_numbering": 1,
   "nav_menu": {},
   "number_sections": true,
   "sideBar": true,
   "skip_h1_title": false,
   "title_cell": "Table of Contents",
   "title_sidebar": "Contents",
   "toc_cell": false,
   "toc_position": {},
   "toc_section_display": true,
   "toc_window_display": false
  }
 },
 "nbformat": 4,
 "nbformat_minor": 5
}
