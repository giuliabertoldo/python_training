{
 "cells": [
  {
   "cell_type": "markdown",
   "id": "a20b7c41",
   "metadata": {},
   "source": [
    "Notes based on the course \"Intermediate Python\" by DataCamp.\n",
    "\n"
   ]
  },
  {
   "cell_type": "markdown",
   "id": "5f8c795c",
   "metadata": {},
   "source": [
    "# Notes"
   ]
  },
  {
   "cell_type": "markdown",
   "id": "6ff092e1",
   "metadata": {},
   "source": [
    "## Matplotlib\n",
    "\n",
    "Data visualization\n",
    "* you'll need the subplot package pyplot (plt)`import matplotlib.pyplot`\n",
    "* `plt.plot(year, pop)`; `plt.show()`, line plot\n",
    "* `plt.scatter(year,pop)`, scatterplot\n",
    "    * argument `s` adds points proportional to some size\n",
    "    * argument `c` adds color coded points\n",
    "    * argument `alpha` changes opacity\n",
    "* `plt.xscale('log')` scale x variable using logarithm\n",
    "* `plt.hist(x, bins =3)`\n",
    "* `plt.clf()` cleans the plot\n",
    "* `plt.xlabel('')`\n",
    "* `plt.ylabel('')`\n",
    "* `plt.title('')`\n",
    "* `plt.yticks([0,2,4], ['zero', 'two', 'four'])` change y thicks and add customized labels\n",
    "* `plt.text`\n",
    "* `plt.grid(True)`\n"
   ]
  },
  {
   "cell_type": "markdown",
   "id": "1d4c9472",
   "metadata": {},
   "source": [
    "## Dictionaries, Part 1"
   ]
  }
 ],
 "metadata": {
  "kernelspec": {
   "display_name": "Python 3 (ipykernel)",
   "language": "python",
   "name": "python3"
  },
  "language_info": {
   "codemirror_mode": {
    "name": "ipython",
    "version": 3
   },
   "file_extension": ".py",
   "mimetype": "text/x-python",
   "name": "python",
   "nbconvert_exporter": "python",
   "pygments_lexer": "ipython3",
   "version": "3.10.0"
  },
  "toc": {
   "base_numbering": 1,
   "nav_menu": {},
   "number_sections": true,
   "sideBar": true,
   "skip_h1_title": false,
   "title_cell": "Table of Contents",
   "title_sidebar": "Contents",
   "toc_cell": false,
   "toc_position": {},
   "toc_section_display": true,
   "toc_window_display": false
  }
 },
 "nbformat": 4,
 "nbformat_minor": 5
}
