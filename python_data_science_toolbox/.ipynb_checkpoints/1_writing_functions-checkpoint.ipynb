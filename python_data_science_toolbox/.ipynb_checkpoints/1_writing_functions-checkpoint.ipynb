{
 "cells": [
  {
   "cell_type": "markdown",
   "id": "7b5401b1",
   "metadata": {},
   "source": [
    "# Writing your own functions"
   ]
  },
  {
   "cell_type": "markdown",
   "id": "55ece0e7",
   "metadata": {},
   "source": [
    "* Parameters: when you define the function you write parameters in the function's header\n",
    "* Arguments: when you call a function you pass arguments into a function\n",
    "* Docstrings: Documentation for your function\n",
    "* We distinguish a function header and a function body\n",
    "* The part of the header that specifies the function name and parameters (`square(value)`) is known as the *signature* of the function"
   ]
  },
  {
   "cell_type": "code",
   "execution_count": null,
   "id": "36e93741",
   "metadata": {},
   "outputs": [],
   "source": [
    "def square(value):   # Function header\n",
    "    \"\"\" Docstring here \"\"\"\n",
    "    code             # Function body\n",
    "    return new_value # Now you can assign to a variable the result of the function call\n",
    "\n",
    "square()"
   ]
  },
  {
   "cell_type": "markdown",
   "id": "c8473312",
   "metadata": {},
   "source": [
    "* Assigning a variable y to a function that prints a value but does not return a value will result thata varible y being of type type `NoneType`. Therefore, use `return` \n",
    "* The `return` keyword lets you return values from functions. Returning values is generally more desirable than printing them out because a `print()` call assigned to a variable has type `NoneType` "
   ]
  },
  {
   "cell_type": "markdown",
   "id": "82e56aaa",
   "metadata": {},
   "source": [
    "## Functions that accept multiple arguments and return multiple values\n",
    "How to make the functions return multiple values? Tuples!\n",
    "Tuples: \n",
    "- like a list: can contain multiple values \n",
    "- immutable: can't modify values in a tuple\n",
    "- defined using parentheses ()\n",
    "- you can access elements as you do with lists "
   ]
  },
  {
   "cell_type": "code",
   "execution_count": 4,
   "id": "168d4304",
   "metadata": {},
   "outputs": [
    {
     "name": "stdout",
     "output_type": "stream",
     "text": [
      "2\n",
      "4\n",
      "6\n"
     ]
    }
   ],
   "source": [
    "# Create a tuple\n",
    "even_num = (2,4,6)\n",
    "# Unpack tuple\n",
    "a, b, c = even_num\n",
    "print(a)\n",
    "print(b)\n",
    "print(c)"
   ]
  },
  {
   "cell_type": "code",
   "execution_count": 5,
   "id": "e5c79e0a",
   "metadata": {},
   "outputs": [],
   "source": [
    "# Function that accepts multiple arguments and returns multiple values \n",
    "def raise_both(value1, value2):\n",
    "    \"\"\"Docstring\"\"\"\n",
    "    \n",
    "    # Body\n",
    "    \n",
    "    new_tuple = (newvalue1, newvalue2) # Build a tuple\n",
    "    return new_tuple                   # Return tuple"
   ]
  },
  {
   "cell_type": "markdown",
   "id": "375c7932",
   "metadata": {},
   "source": [
    "Note that the return statement `return x, y` has the same result as `return(x,y)`: the former packs x and y into a tuple under the hood!"
   ]
  }
 ],
 "metadata": {
  "kernelspec": {
   "display_name": "Python 3 (ipykernel)",
   "language": "python",
   "name": "python3"
  },
  "language_info": {
   "codemirror_mode": {
    "name": "ipython",
    "version": 3
   },
   "file_extension": ".py",
   "mimetype": "text/x-python",
   "name": "python",
   "nbconvert_exporter": "python",
   "pygments_lexer": "ipython3",
   "version": "3.10.4"
  },
  "toc": {
   "base_numbering": 1,
   "nav_menu": {},
   "number_sections": true,
   "sideBar": true,
   "skip_h1_title": false,
   "title_cell": "Table of Contents",
   "title_sidebar": "Contents",
   "toc_cell": false,
   "toc_position": {},
   "toc_section_display": true,
   "toc_window_display": false
  }
 },
 "nbformat": 4,
 "nbformat_minor": 5
}
