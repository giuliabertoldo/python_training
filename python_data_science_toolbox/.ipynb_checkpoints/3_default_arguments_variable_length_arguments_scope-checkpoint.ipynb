{
 "cells": [
  {
   "cell_type": "markdown",
   "id": "dab273b2",
   "metadata": {},
   "source": [
    "# Default arguments, variable-length arguments and scope"
   ]
  },
  {
   "cell_type": "markdown",
   "id": "a46a6159",
   "metadata": {},
   "source": [
    "Scope in functions:\n",
    "* Global scope: defines in the main body of a script \n",
    "* Local scope: defined inside a function\n",
    "* Built-in scope: names in the pre-defined built-ins module (like print()). Python's built-in scope is really just a built-in module called builtins. However, to query builtins, you'll need to `import builtins`. Use `dir(builtins)` to print a list of all names in the module \n",
    "\n",
    "First the local scope is serahced, then the global, then the built-in\n",
    "\n",
    "* `global` keywords to use within a funciton to redefine a global variable wihtin a function "
   ]
  },
  {
   "cell_type": "markdown",
   "id": "7b234600",
   "metadata": {},
   "source": [
    "Nested functions: \n",
    "* python first search the value of a varible in the inner funciton and then in the outer function (enclosing function), then the global scope and then the built-in scope\n",
    "* `nonlocal` use in an inner function to alter the value defined in the enclosing  function (it modifies also the value in the enclosing function)"
   ]
  },
  {
   "cell_type": "markdown",
   "id": "bd3fd868",
   "metadata": {},
   "source": [
    "LEGB rule:names references search in 4 scopes:\n",
    "* Local\n",
    "* Enclosing functions\n",
    "* Global\n",
    "* Built-in"
   ]
  },
  {
   "cell_type": "code",
   "execution_count": 1,
   "id": "bbd7b0e0",
   "metadata": {},
   "outputs": [
    {
     "name": "stdout",
     "output_type": "stream",
     "text": [
      "('a!!!', 'b!!!', 'c!!!')\n"
     ]
    }
   ],
   "source": [
    "# Example of nested functions\n",
    "\n",
    "# Define three_shouts\n",
    "def three_shouts(word1, word2, word3):\n",
    "    \"\"\"Returns a tuple of strings\n",
    "    concatenated with '!!!'.\"\"\"\n",
    "\n",
    "    # Define inner\n",
    "    def inner(word):\n",
    "        \"\"\"Returns a string concatenated with '!!!'.\"\"\"\n",
    "        return word + '!!!'\n",
    "\n",
    "    # Return a tuple of strings\n",
    "    return (inner(word1), inner(word2), inner(word3))\n",
    "\n",
    "# Call three_shouts() and print\n",
    "print(three_shouts('a', 'b', 'c'))"
   ]
  },
  {
   "cell_type": "markdown",
   "id": "0610febc",
   "metadata": {},
   "source": [
    "Default and flexible arguments"
   ]
  }
 ],
 "metadata": {
  "kernelspec": {
   "display_name": "Python 3 (ipykernel)",
   "language": "python",
   "name": "python3"
  },
  "language_info": {
   "codemirror_mode": {
    "name": "ipython",
    "version": 3
   },
   "file_extension": ".py",
   "mimetype": "text/x-python",
   "name": "python",
   "nbconvert_exporter": "python",
   "pygments_lexer": "ipython3",
   "version": "3.10.4"
  },
  "toc": {
   "base_numbering": 1,
   "nav_menu": {},
   "number_sections": true,
   "sideBar": true,
   "skip_h1_title": false,
   "title_cell": "Table of Contents",
   "title_sidebar": "Contents",
   "toc_cell": false,
   "toc_position": {},
   "toc_section_display": true,
   "toc_window_display": false
  }
 },
 "nbformat": 4,
 "nbformat_minor": 5
}
