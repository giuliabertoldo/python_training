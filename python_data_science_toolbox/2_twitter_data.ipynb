{
 "cells": [
  {
   "cell_type": "markdown",
   "id": "f4216032",
   "metadata": {},
   "source": [
    "# Build a function: count occurences in a column of a DataFrame and store in a dictionary\n",
    "Your dataset contains Twitter data an you have to iterate over entries in a column \n",
    "to build a dictionary in which the keys are the names of languages and the values are the number of tweets in the given language. "
   ]
  },
  {
   "cell_type": "code",
   "execution_count": 5,
   "id": "94d68c0f",
   "metadata": {},
   "outputs": [],
   "source": [
    "# Import packages\n",
    "import pandas as pd"
   ]
  },
  {
   "cell_type": "code",
   "execution_count": 6,
   "id": "07a69ba7",
   "metadata": {},
   "outputs": [],
   "source": [
    "# Import data \n",
    "df = pd.read_csv(\"data/tweets.csv\")"
   ]
  },
  {
   "cell_type": "code",
   "execution_count": 24,
   "id": "81366384",
   "metadata": {},
   "outputs": [],
   "source": [
    "# Look at data\n",
    "# df.head()\n",
    "# df.describe()\n",
    "# df.info()"
   ]
  },
  {
   "cell_type": "code",
   "execution_count": 23,
   "id": "6c832d49",
   "metadata": {},
   "outputs": [
    {
     "name": "stdout",
     "output_type": "stream",
     "text": [
      "0     en\n",
      "1     en\n",
      "2     et\n",
      "3     en\n",
      "4     en\n",
      "      ..\n",
      "95    en\n",
      "96    en\n",
      "97    en\n",
      "98    en\n",
      "99    en\n",
      "Name: lang, Length: 100, dtype: object\n",
      "{'en': 97, 'et': 1, 'und': 2}\n"
     ]
    }
   ],
   "source": [
    "# Initialize an empty dictionary\n",
    "langs_count = {}\n",
    "\n",
    "# Extract column from DataFrame\n",
    "\n",
    "col = df['lang']\n",
    "print(col)\n",
    "\n",
    "# Iterate over lang column: \n",
    "for entry in col: \n",
    "    # If the language is in langs_count, add 1 \n",
    "    if entry in langs_count.keys():\n",
    "        langs_count[entry] += 1 \n",
    "    # Else add the language to langs_count, set the value to 1\n",
    "    else:\n",
    "        langs_count[entry] = 1 \n",
    "\n",
    "# Print the populated dictionary\n",
    "print(langs_count)\n",
    "        \n",
    "    "
   ]
  },
  {
   "cell_type": "code",
   "execution_count": 22,
   "id": "b5b6295b",
   "metadata": {},
   "outputs": [
    {
     "name": "stdout",
     "output_type": "stream",
     "text": [
      "{'en': 97, 'et': 1, 'und': 2}\n"
     ]
    }
   ],
   "source": [
    "# Define a function \n",
    "def count_entries(df, col_name):\n",
    "    \"\"\"Return a dictionary with counts of \n",
    "    occurences as value for each key.\"\"\"\n",
    "    \n",
    "    # Initialize an empty dictionary\n",
    "    langs_count = {}\n",
    "    \n",
    "    # Extract the column from DataFrame\n",
    "    col = df[col_name]\n",
    "    \n",
    "    # Iterate over lang column: \n",
    "    for entry in col: \n",
    "        # If the language is in langs_count, add 1 \n",
    "        if entry in langs_count.keys():\n",
    "            langs_count[entry] += 1 \n",
    "        # Else add the language to langs_count, set the value to 1\n",
    "        else:\n",
    "            langs_count[entry] = 1 \n",
    "    \n",
    "    # Return the dictionary\n",
    "    return(langs_count)\n",
    "\n",
    "# Call the count_entries function by passing it df and the name of the column\n",
    "result = count_entries(df, 'lang')\n",
    "print(result)"
   ]
  }
 ],
 "metadata": {
  "kernelspec": {
   "display_name": "Python 3 (ipykernel)",
   "language": "python",
   "name": "python3"
  },
  "language_info": {
   "codemirror_mode": {
    "name": "ipython",
    "version": 3
   },
   "file_extension": ".py",
   "mimetype": "text/x-python",
   "name": "python",
   "nbconvert_exporter": "python",
   "pygments_lexer": "ipython3",
   "version": "3.10.4"
  },
  "toc": {
   "base_numbering": 1,
   "nav_menu": {},
   "number_sections": true,
   "sideBar": true,
   "skip_h1_title": false,
   "title_cell": "Table of Contents",
   "title_sidebar": "Contents",
   "toc_cell": false,
   "toc_position": {},
   "toc_section_display": true,
   "toc_window_display": false
  }
 },
 "nbformat": 4,
 "nbformat_minor": 5
}
