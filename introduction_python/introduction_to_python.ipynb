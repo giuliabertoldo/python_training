{
 "cells": [
  {
   "cell_type": "markdown",
   "id": "7ef5c306",
   "metadata": {},
   "source": [
    "Notes based on the \"Introduction to Python\" course from Datacamp. "
   ]
  },
  {
   "cell_type": "markdown",
   "id": "a33017f5",
   "metadata": {},
   "source": [
    "# Notes\n",
    "* Explitcly use print() to generate output. \n",
    "\n",
    "* Variable\n",
    "    + assignment is done with equal sign =\n",
    "    + type(_variable_) \n",
    "    * convert a value into a string: `str()`\n",
    "    * convert a value into an integer: `int()`\n",
    "    * covnert a value into a float: `float()`\n",
    "    * convert a value into a boolean: `bool()` \n",
    "\n"
   ]
  },
  {
   "cell_type": "markdown",
   "id": "ae2cd426",
   "metadata": {},
   "source": [
    "* Lists\n",
    "    + Built with square brackets [  ,  ,   ]\n",
    "    + Elements can be of any type and different types can be in the same list\n",
    "    + Subsetting lists: \n",
    "        + zero-indexing (subtract one), you can use negative indexed \n",
    "        + slicing: [:], start is included but end is excluded \n",
    "    + Manipulating lists: \n",
    "        + `del(fam[2])`: remove element indexed 2\n",
    "        + you copy the reference not the actual value: you change the computer memory. If you want to create  a separate list you use: `y = list(x)` or slice `y = x[:]`\n",
    "        "
   ]
  },
  {
   "cell_type": "markdown",
   "id": "6b17a00f",
   "metadata": {},
   "source": [
    "* Functions\n",
    "    * `max()`\n",
    "    * `round(number, digits)` \n",
    "    * `help(round)` \n",
    "    * `len()`\n",
    "    * `pow()`\n",
    "    * `sorted()`"
   ]
  },
  {
   "cell_type": "markdown",
   "id": "9730b630",
   "metadata": {},
   "source": [
    "* Methods\n",
    "    + Python objects: they come with methods. They are functions that belong to Python objects. \n",
    "    + `sister.capitalize()` with strings\n",
    "    + `.upper()` with strings\n",
    "    + `.index()` with lists\n",
    "    + `.count()` with lists\n",
    "    + `.append()` with lists \n",
    "    + `.remove()` with lists\n",
    "    + `.reverse()` with lists"
   ]
  },
  {
   "cell_type": "markdown",
   "id": "79296c41",
   "metadata": {},
   "source": [
    "* Packages\n",
    "    * think of of it as a directory of python scripts and each script is called module which specify functions, methods and python types.\n",
    "    * pip (install pip to then install all other packages)\n",
    "    * `import numpy` \n",
    "        * `numpy.array`\n",
    "    * `import numpy as np`\n",
    "        * `np.array`\n",
    "    * `from numpy import array`\n",
    "        * `array`"
   ]
  },
  {
   "cell_type": "code",
   "execution_count": 3,
   "id": "8fca55c2",
   "metadata": {},
   "outputs": [],
   "source": [
    "# Import package \n",
    "# Since the math module comes packaged with the Python release, \n",
    "# you don’t have to install it separately. Using it is just a matter of importing the module\n",
    "import math"
   ]
  },
  {
   "cell_type": "markdown",
   "id": "0f5da78b",
   "metadata": {},
   "source": [
    "* NumPy\n",
    "    * Provides an alternative to the regular Python list: The NumPy array\n",
    "        * can perform calculations over entire arrays element-wise\n",
    "        * an array contains values of a single type \n",
    "        * values will be converted to a single type: type coercion\n",
    "        * if you use the `+` between numpy arrays elements will bee adedd, and do not create a longer list, like with lists. \n",
    "        * subsetting using booleans: `bmi[bmi > 23]`\n",
    "    * 2D NumPy arrays\n",
    "        * attribute: syntax is like calling a method but methods have round brackets afterwards, attributes do not\n",
    "            * `numpy_array.shape`\n",
    "    * Data analysis\n",
    "        * `np.mean()`\n",
    "        * `np.median()`\n",
    "        * `np.corrcoef()`\n",
    "        * `np.std()`\n",
    "        * `np.sum()`\n",
    "        * `np.sort()`\n",
    "        * `np.random.normal()`\n",
    "        * `np.column_stack()`"
   ]
  },
  {
   "cell_type": "code",
   "execution_count": 4,
   "id": "c6dfa67f",
   "metadata": {},
   "outputs": [
    {
     "name": "stdout",
     "output_type": "stream",
     "text": [
      "Collecting numpy\n",
      "  Downloading numpy-1.23.1-cp310-cp310-macosx_10_9_x86_64.whl (18.1 MB)\n",
      "\u001b[2K     \u001b[38;2;114;156;31m━━━━━━━━━━━━━━━━━━━━━━━━━━━━━━━━━━━━━━━\u001b[0m \u001b[32m18.1/18.1 MB\u001b[0m \u001b[31m523.8 kB/s\u001b[0m eta \u001b[36m0:00:00\u001b[0mm eta \u001b[36m0:00:01\u001b[0m[36m0:00:01\u001b[0m\n",
      "\u001b[?25hInstalling collected packages: numpy\n",
      "Successfully installed numpy-1.23.1\n"
     ]
    }
   ],
   "source": [
    "# ! pip install numpy\n",
    "import numpy as np"
   ]
  }
 ],
 "metadata": {
  "kernelspec": {
   "display_name": "Python 3 (ipykernel)",
   "language": "python",
   "name": "python3"
  },
  "language_info": {
   "codemirror_mode": {
    "name": "ipython",
    "version": 3
   },
   "file_extension": ".py",
   "mimetype": "text/x-python",
   "name": "python",
   "nbconvert_exporter": "python",
   "pygments_lexer": "ipython3",
   "version": "3.10.4"
  },
  "toc": {
   "base_numbering": 1,
   "nav_menu": {},
   "number_sections": true,
   "sideBar": true,
   "skip_h1_title": false,
   "title_cell": "Table of Contents",
   "title_sidebar": "Contents",
   "toc_cell": false,
   "toc_position": {},
   "toc_section_display": true,
   "toc_window_display": false
  }
 },
 "nbformat": 4,
 "nbformat_minor": 5
}
